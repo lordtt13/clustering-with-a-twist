{
 "cells": [
  {
   "cell_type": "code",
   "execution_count": 1,
   "metadata": {},
   "outputs": [
    {
     "name": "stderr",
     "output_type": "stream",
     "text": [
      "/home/tanmay/anaconda3/lib/python3.7/site-packages/sklearn/utils/linear_assignment_.py:22: FutureWarning: The linear_assignment_ module is deprecated in 0.21 and will be removed from 0.23. Use scipy.optimize.linear_sum_assignment instead.\n",
      "  FutureWarning)\n"
     ]
    }
   ],
   "source": [
    "import autoencoder_conv2d\n",
    "\n",
    "import numpy as np\n",
    "import seaborn as sns\n",
    "import tensorflow as tf\n",
    "import matplotlib.pyplot as plt\n",
    "\n",
    "from sklearn import metrics\n",
    "from sklearn.cluster import KMeans\n",
    "from tensorflow.keras.datasets import mnist\n",
    "from clusteringlayer import ClusteringLayer\n",
    "from tensorflow.keras.initializers import VarianceScaling\n",
    "from sklearn.utils.linear_assignment_ import linear_assignment"
   ]
  },
  {
   "cell_type": "code",
   "execution_count": 2,
   "metadata": {},
   "outputs": [],
   "source": [
    "from tensorflow.compat.v1 import ConfigProto\n",
    "from tensorflow.compat.v1 import InteractiveSession\n",
    "\n",
    "config = ConfigProto()\n",
    "config.gpu_options.allow_growth = True\n",
    "session = InteractiveSession(config = config)"
   ]
  },
  {
   "cell_type": "code",
   "execution_count": 3,
   "metadata": {},
   "outputs": [],
   "source": [
    "(x_train, y_train), (x_test, y_test) = mnist.load_data()\n",
    "\n",
    "x = np.concatenate((x_train, x_test))\n",
    "y = np.concatenate((y_train, y_test))\n",
    "x = x.reshape(x.shape + (1,))\n",
    "x = np.divide(x, 255.)"
   ]
  },
  {
   "cell_type": "code",
   "execution_count": 4,
   "metadata": {},
   "outputs": [],
   "source": [
    "autoencoder, encoder = autoencoder_conv2d.autoencoderConv2D_1()"
   ]
  },
  {
   "cell_type": "code",
   "execution_count": 5,
   "metadata": {},
   "outputs": [
    {
     "name": "stdout",
     "output_type": "stream",
     "text": [
      "Model: \"AE\"\n",
      "_________________________________________________________________\n",
      "Layer (type)                 Output Shape              Param #   \n",
      "=================================================================\n",
      "input_1 (InputLayer)         [(None, 28, 28, 1)]       0         \n",
      "_________________________________________________________________\n",
      "conv1 (Conv2D)               (None, 14, 14, 32)        832       \n",
      "_________________________________________________________________\n",
      "conv2 (Conv2D)               (None, 7, 7, 64)          51264     \n",
      "_________________________________________________________________\n",
      "conv3 (Conv2D)               (None, 3, 3, 128)         73856     \n",
      "_________________________________________________________________\n",
      "flatten (Flatten)            (None, 1152)              0         \n",
      "_________________________________________________________________\n",
      "embedding (Dense)            (None, 10)                11530     \n",
      "_________________________________________________________________\n",
      "dense (Dense)                (None, 1152)              12672     \n",
      "_________________________________________________________________\n",
      "reshape (Reshape)            (None, 3, 3, 128)         0         \n",
      "_________________________________________________________________\n",
      "deconv3 (Conv2DTranspose)    (None, 7, 7, 64)          73792     \n",
      "_________________________________________________________________\n",
      "deconv2 (Conv2DTranspose)    (None, 14, 14, 32)        51232     \n",
      "_________________________________________________________________\n",
      "deconv1 (Conv2DTranspose)    (None, 28, 28, 1)         801       \n",
      "=================================================================\n",
      "Total params: 275,979\n",
      "Trainable params: 275,979\n",
      "Non-trainable params: 0\n",
      "_________________________________________________________________\n"
     ]
    }
   ],
   "source": [
    "autoencoder.summary()"
   ]
  },
  {
   "cell_type": "code",
   "execution_count": 6,
   "metadata": {},
   "outputs": [],
   "source": [
    "pretrain_epochs = 20\n",
    "batch_size = 256"
   ]
  },
  {
   "cell_type": "code",
   "execution_count": 7,
   "metadata": {},
   "outputs": [],
   "source": [
    "autoencoder.compile(optimizer = 'adadelta', loss = 'mse')"
   ]
  },
  {
   "cell_type": "code",
   "execution_count": 8,
   "metadata": {},
   "outputs": [
    {
     "name": "stdout",
     "output_type": "stream",
     "text": [
      "Epoch 1/20\n",
      "274/274 - 8s - loss: 0.1121\n",
      "Epoch 2/20\n",
      "274/274 - 2s - loss: 0.1118\n",
      "Epoch 3/20\n",
      "274/274 - 2s - loss: 0.1115\n",
      "Epoch 4/20\n",
      "274/274 - 2s - loss: 0.1110\n",
      "Epoch 5/20\n",
      "274/274 - 2s - loss: 0.1106\n",
      "Epoch 6/20\n",
      "274/274 - 2s - loss: 0.1101\n",
      "Epoch 7/20\n",
      "274/274 - 2s - loss: 0.1096\n",
      "Epoch 8/20\n",
      "274/274 - 2s - loss: 0.1091\n",
      "Epoch 9/20\n",
      "274/274 - 2s - loss: 0.1085\n",
      "Epoch 10/20\n",
      "274/274 - 2s - loss: 0.1079\n",
      "Epoch 11/20\n",
      "274/274 - 2s - loss: 0.1074\n",
      "Epoch 12/20\n",
      "274/274 - 2s - loss: 0.1068\n",
      "Epoch 13/20\n",
      "274/274 - 2s - loss: 0.1061\n",
      "Epoch 14/20\n",
      "274/274 - 2s - loss: 0.1055\n",
      "Epoch 15/20\n",
      "274/274 - 2s - loss: 0.1048\n",
      "Epoch 16/20\n",
      "274/274 - 2s - loss: 0.1041\n",
      "Epoch 17/20\n",
      "274/274 - 2s - loss: 0.1035\n",
      "Epoch 18/20\n",
      "274/274 - 2s - loss: 0.1028\n",
      "Epoch 19/20\n",
      "274/274 - 2s - loss: 0.1021\n",
      "Epoch 20/20\n",
      "274/274 - 2s - loss: 0.1014\n"
     ]
    },
    {
     "data": {
      "text/plain": [
       "<tensorflow.python.keras.callbacks.History at 0x7f0dc43234d0>"
      ]
     },
     "execution_count": 8,
     "metadata": {},
     "output_type": "execute_result"
    }
   ],
   "source": [
    "autoencoder.fit(x, x, batch_size = batch_size, epochs = pretrain_epochs, verbose = 2)"
   ]
  },
  {
   "cell_type": "code",
   "execution_count": 9,
   "metadata": {},
   "outputs": [],
   "source": [
    "# Add clustering layer\n",
    "\n",
    "clustering_layer = ClusteringLayer(10, name = 'clustering')(encoder.output)\n",
    "model = tf.keras.models.Model(inputs = encoder.input, outputs = clustering_layer)\n",
    "model.compile(optimizer = 'adam', loss = 'kld')"
   ]
  },
  {
   "cell_type": "code",
   "execution_count": 10,
   "metadata": {},
   "outputs": [],
   "source": [
    "# initialize cluster centers using k-means\n",
    "\n",
    "kmeans = KMeans(n_clusters = 10, n_init = 20)\n",
    "y_pred = kmeans.fit_predict(encoder.predict(x))"
   ]
  },
  {
   "cell_type": "code",
   "execution_count": 11,
   "metadata": {},
   "outputs": [],
   "source": [
    "y_pred_last = np.copy(y_pred)"
   ]
  },
  {
   "cell_type": "code",
   "execution_count": 12,
   "metadata": {},
   "outputs": [],
   "source": [
    "model.get_layer(name = 'clustering').set_weights([kmeans.cluster_centers_])"
   ]
  },
  {
   "cell_type": "code",
   "execution_count": null,
   "metadata": {},
   "outputs": [],
   "source": []
  }
 ],
 "metadata": {
  "kernelspec": {
   "display_name": "Python 3",
   "language": "python",
   "name": "python3"
  },
  "language_info": {
   "codemirror_mode": {
    "name": "ipython",
    "version": 3
   },
   "file_extension": ".py",
   "mimetype": "text/x-python",
   "name": "python",
   "nbconvert_exporter": "python",
   "pygments_lexer": "ipython3",
   "version": "3.7.7"
  }
 },
 "nbformat": 4,
 "nbformat_minor": 4
}
